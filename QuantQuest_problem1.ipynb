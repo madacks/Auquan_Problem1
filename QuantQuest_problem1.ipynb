{
 "cells": [
  {
   "cell_type": "code",
   "execution_count": 229,
   "metadata": {
    "collapsed": true
   },
   "outputs": [],
   "source": [
    "import numpy as np\n",
    "import pandas as pd\n",
    "%matplotlib inline\n",
    "import matplotlib.pyplot as plt\n",
    "import matplotlib\n",
    "matplotlib.style.use('ggplot')\n",
    "\n",
    "from __future__ import print_function\n",
    "from six.moves import cPickle as pickle\n",
    "\n",
    "from sklearn import preprocessing\n",
    "\n",
    "data1 = pd.read_csv(\"AGW.csv\")\n",
    "data = np.genfromtxt(\"AIO.csv\",delimiter=',')"
   ]
  },
  {
   "cell_type": "code",
   "execution_count": 230,
   "metadata": {
    "collapsed": true
   },
   "outputs": [],
   "source": [
    "from sklearn import datasets, linear_model\n",
    "from sklearn.metrics import mean_squared_error,mean_absolute_error, r2_score"
   ]
  },
  {
   "cell_type": "code",
   "execution_count": 231,
   "metadata": {},
   "outputs": [
    {
     "name": "stdout",
     "output_type": "stream",
     "text": [
      "(8743L, 30L)\n",
      "\n",
      " \n",
      "[ nan  nan  nan ...,  nan  nan  nan]\n"
     ]
    }
   ],
   "source": [
    "print(data.shape)\n",
    "print(\"\\n \")\n",
    "print(data[:,0])"
   ]
  },
  {
   "cell_type": "code",
   "execution_count": 232,
   "metadata": {},
   "outputs": [
    {
     "name": "stdout",
     "output_type": "stream",
     "text": [
      "(8742L, 29L)\n",
      "[[  2.43642000e+02   2.44470000e+02  -7.00000000e-01 ...,   2.44570000e+02\n",
      "   -8.15000000e-01   0.00000000e+00]\n",
      " [  2.43392000e+02   2.44108000e+02  -8.25000000e-01 ...,   2.44328000e+02\n",
      "   -8.00000000e-01   1.15000000e+02]\n",
      " [  2.42803000e+02   2.43596000e+02  -9.00000000e-01 ...,   2.43825000e+02\n",
      "   -8.20000000e-01   8.55310000e+01]\n",
      " ..., \n",
      " [  2.58662000e+02   2.58563000e+02   1.25000000e-01 ...,   2.58729000e+02\n",
      "    1.30000000e-01   7.13730000e+01]\n",
      " [  2.58909000e+02   2.58743000e+02   1.25000000e-01 ...,   2.58989000e+02\n",
      "    1.30000000e-01   7.13690000e+01]\n",
      " [  2.58862000e+02   2.58692000e+02   1.00000000e-01 ...,   2.58995000e+02\n",
      "    1.30000000e-01   7.13650000e+01]]\n"
     ]
    }
   ],
   "source": [
    "data = np.delete(data,0,1)\n",
    "data = np.delete(data,0,0)\n",
    "print(data.shape)\n",
    "print(data[:,:])"
   ]
  },
  {
   "cell_type": "code",
   "execution_count": 233,
   "metadata": {},
   "outputs": [
    {
     "name": "stdout",
     "output_type": "stream",
     "text": [
      "[   0.     115.      85.531 ...,   71.373   71.369   71.365]\n"
     ]
    }
   ],
   "source": [
    "print(data[:,-1])"
   ]
  },
  {
   "cell_type": "code",
   "execution_count": 234,
   "metadata": {
    "collapsed": true
   },
   "outputs": [],
   "source": [
    "data = np.delete(data,-1,1)"
   ]
  },
  {
   "cell_type": "code",
   "execution_count": 235,
   "metadata": {},
   "outputs": [
    {
     "name": "stdout",
     "output_type": "stream",
     "text": [
      "(8742L, 28L)\n",
      "[[  2.43642000e+02   2.44470000e+02  -7.00000000e-01 ...,   2.44060000e+02\n",
      "    2.44570000e+02  -8.15000000e-01]\n",
      " [  2.43392000e+02   2.44108000e+02  -8.25000000e-01 ...,   2.43822000e+02\n",
      "    2.44328000e+02  -8.00000000e-01]\n",
      " [  2.42803000e+02   2.43596000e+02  -9.00000000e-01 ...,   2.43400000e+02\n",
      "    2.43825000e+02  -8.20000000e-01]\n",
      " ..., \n",
      " [  2.58662000e+02   2.58563000e+02   1.25000000e-01 ...,   2.58447000e+02\n",
      "    2.58729000e+02   1.30000000e-01]\n",
      " [  2.58909000e+02   2.58743000e+02   1.25000000e-01 ...,   2.58705000e+02\n",
      "    2.58989000e+02   1.30000000e-01]\n",
      " [  2.58862000e+02   2.58692000e+02   1.00000000e-01 ...,   2.58655000e+02\n",
      "    2.58995000e+02   1.30000000e-01]]\n"
     ]
    }
   ],
   "source": [
    "print(data.shape)\n",
    "print(data[:,:])\n"
   ]
  },
  {
   "cell_type": "code",
   "execution_count": 236,
   "metadata": {
    "collapsed": true
   },
   "outputs": [],
   "source": [
    "fv = data[:,-1]"
   ]
  },
  {
   "cell_type": "code",
   "execution_count": 237,
   "metadata": {},
   "outputs": [
    {
     "data": {
      "text/plain": [
       "array([-0.815, -0.8  , -0.82 , ...,  0.13 ,  0.13 ,  0.13 ])"
      ]
     },
     "execution_count": 237,
     "metadata": {},
     "output_type": "execute_result"
    }
   ],
   "source": [
    "fv"
   ]
  },
  {
   "cell_type": "code",
   "execution_count": 238,
   "metadata": {},
   "outputs": [
    {
     "name": "stderr",
     "output_type": "stream",
     "text": [
      "C:\\Users\\Jatin\\Anaconda2\\lib\\site-packages\\ipykernel_launcher.py:1: FutureWarning: pd.rolling_mean is deprecated for ndarrays and will be removed in a future version\n",
      "  \"\"\"Entry point for launching an IPython kernel.\n",
      "C:\\Users\\Jatin\\Anaconda2\\lib\\site-packages\\ipykernel_launcher.py:2: FutureWarning: pd.rolling_mean is deprecated for ndarrays and will be removed in a future version\n",
      "  \n"
     ]
    }
   ],
   "source": [
    "n = pd.rolling_mean(data[:,2],5)\n",
    "ma10 = pd.rolling_mean(data[:,2],30)"
   ]
  },
  {
   "cell_type": "code",
   "execution_count": 239,
   "metadata": {
    "collapsed": true
   },
   "outputs": [],
   "source": [
    "n[0:5] =data[0:5,2]\n",
    "ma10[0:30] =data[0:30,2]"
   ]
  },
  {
   "cell_type": "code",
   "execution_count": 240,
   "metadata": {
    "collapsed": true
   },
   "outputs": [],
   "source": [
    "X = np.vstack((n,data[:,2]))"
   ]
  },
  {
   "cell_type": "code",
   "execution_count": 241,
   "metadata": {},
   "outputs": [
    {
     "data": {
      "text/plain": [
       "(2L, 8742L)"
      ]
     },
     "execution_count": 241,
     "metadata": {},
     "output_type": "execute_result"
    }
   ],
   "source": [
    "X.shape"
   ]
  },
  {
   "cell_type": "code",
   "execution_count": 242,
   "metadata": {},
   "outputs": [
    {
     "name": "stdout",
     "output_type": "stream",
     "text": [
      "(8742L, 2L)\n",
      "(8742L,)\n"
     ]
    }
   ],
   "source": [
    "X = np.transpose(X)\n",
    "print(X.shape)\n",
    "print(fv.shape)"
   ]
  },
  {
   "cell_type": "code",
   "execution_count": 156,
   "metadata": {
    "collapsed": true
   },
   "outputs": [],
   "source": [
    "X = np.hstack((X, data[:,0:2]))"
   ]
  },
  {
   "cell_type": "code",
   "execution_count": 221,
   "metadata": {},
   "outputs": [
    {
     "data": {
      "text/plain": [
       "(8742L, 2L)"
      ]
     },
     "execution_count": 221,
     "metadata": {},
     "output_type": "execute_result"
    }
   ],
   "source": [
    "X.shape"
   ]
  },
  {
   "cell_type": "code",
   "execution_count": 243,
   "metadata": {},
   "outputs": [
    {
     "name": "stdout",
     "output_type": "stream",
     "text": [
      "Coefficients: \n",
      " [ 0.49980648  0.49083167]\n"
     ]
    }
   ],
   "source": [
    "regr = linear_model.LinearRegression()\n",
    "\n",
    "# Train the model using the training sets\n",
    "regr.fit(X, fv)\n",
    "\n",
    "# Make predictions using the testing set\n",
    "pred = regr.predict(X)\n",
    "print('Coefficients: \\n', regr.coef_)"
   ]
  },
  {
   "cell_type": "code",
   "execution_count": 244,
   "metadata": {},
   "outputs": [
    {
     "name": "stdout",
     "output_type": "stream",
     "text": [
      "Mean squared error: 0.004372\n",
      "Variance score: 0.98\n"
     ]
    }
   ],
   "source": [
    "print(\"Mean squared error: %.6f\"\n",
    "      % mean_squared_error(fv, pred))\n",
    "# Explained variance score: 1 is perfect prediction\n",
    "print('Variance score: %.2f' % r2_score(fv, pred))"
   ]
  },
  {
   "cell_type": "code",
   "execution_count": 245,
   "metadata": {},
   "outputs": [
    {
     "data": {
      "text/plain": [
       "array([ 0.12815832,  0.1011177 ,  0.1479262 ,  0.14315251,  0.13815444,\n",
       "        0.19723374,  0.09406934,  0.14065348,  0.14065348,  0.11111383,\n",
       "        0.11088946,  0.11838656,  0.08634788,  0.13793007,  0.11588752,\n",
       "        0.14542717,  0.12088559,  0.12588365,  0.12088559,  0.10611576])"
      ]
     },
     "execution_count": 245,
     "metadata": {},
     "output_type": "execute_result"
    }
   ],
   "source": [
    "pred[-20:]"
   ]
  },
  {
   "cell_type": "code",
   "execution_count": 246,
   "metadata": {},
   "outputs": [
    {
     "data": {
      "text/plain": [
       "array([ 0.165,  0.155,  0.15 ,  0.15 ,  0.14 ,  0.115,  0.13 ,  0.115,\n",
       "        0.12 ,  0.125,  0.135,  0.135,  0.145,  0.135,  0.13 ,  0.13 ,\n",
       "        0.13 ,  0.13 ,  0.13 ,  0.13 ])"
      ]
     },
     "execution_count": 246,
     "metadata": {},
     "output_type": "execute_result"
    }
   ],
   "source": [
    "fv[-20:]"
   ]
  },
  {
   "cell_type": "code",
   "execution_count": 247,
   "metadata": {},
   "outputs": [
    {
     "name": "stdout",
     "output_type": "stream",
     "text": [
      "Coefficients: \n",
      " -0.0079422442614\n",
      "Coefficients: \n",
      " [ 0.49980648  0.49083167]\n"
     ]
    }
   ],
   "source": [
    "print('Coefficients: \\n', regr.intercept_)\n",
    "print('Coefficients: \\n', regr.coef_)"
   ]
  },
  {
   "cell_type": "code",
   "execution_count": 228,
   "metadata": {},
   "outputs": [
    {
     "data": {
      "text/plain": [
       "array([-0.68491253, -0.80721833, -0.85614066, ...,  0.07338348,\n",
       "        0.08976661,  0.1171475 ])"
      ]
     },
     "execution_count": 228,
     "metadata": {},
     "output_type": "execute_result"
    }
   ],
   "source": [
    "np.matmul(X,regr.coef_)"
   ]
  }
 ],
 "metadata": {
  "kernelspec": {
   "display_name": "Python 2",
   "language": "python",
   "name": "python2"
  },
  "language_info": {
   "codemirror_mode": {
    "name": "ipython",
    "version": 2
   },
   "file_extension": ".py",
   "mimetype": "text/x-python",
   "name": "python",
   "nbconvert_exporter": "python",
   "pygments_lexer": "ipython2",
   "version": "2.7.13"
  }
 },
 "nbformat": 4,
 "nbformat_minor": 2
}
